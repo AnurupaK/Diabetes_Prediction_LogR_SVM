{
  "nbformat": 4,
  "nbformat_minor": 0,
  "metadata": {
    "colab": {
      "provenance": []
    },
    "kernelspec": {
      "name": "python3",
      "display_name": "Python 3"
    },
    "language_info": {
      "name": "python"
    }
  },
  "cells": [
    {
      "cell_type": "markdown",
      "source": [
        "Importing Dependencies"
      ],
      "metadata": {
        "id": "jzK5YRRIvIoX"
      }
    },
    {
      "cell_type": "code",
      "execution_count": 36,
      "metadata": {
        "id": "1x01IeS2gY7I"
      },
      "outputs": [],
      "source": [
        "import numpy as np\n",
        "import pandas as pd\n",
        "import matplotlib.pyplot as plt\n",
        "from sklearn.preprocessing import StandardScaler, LabelEncoder\n",
        "from sklearn.model_selection import train_test_split\n",
        "from sklearn.linear_model import LogisticRegression\n",
        "from sklearn import svm\n",
        "from sklearn.metrics import accuracy_score"
      ]
    },
    {
      "cell_type": "markdown",
      "source": [
        "Reading the csv file"
      ],
      "metadata": {
        "id": "DXK8CvVrvNjZ"
      }
    },
    {
      "cell_type": "code",
      "source": [
        "df = pd.read_csv('diabetes.csv')"
      ],
      "metadata": {
        "id": "BzcQuCuTiBGG"
      },
      "execution_count": 4,
      "outputs": []
    },
    {
      "cell_type": "code",
      "source": [
        "df.head()"
      ],
      "metadata": {
        "id": "0B2dDc16iBIk"
      },
      "execution_count": null,
      "outputs": []
    },
    {
      "cell_type": "markdown",
      "source": [
        "Evaluating statistical measures"
      ],
      "metadata": {
        "id": "2BRiZ00GvUtt"
      }
    },
    {
      "cell_type": "code",
      "source": [
        "std_list = df.iloc[:,:-1].std()"
      ],
      "metadata": {
        "id": "PiGpSIoiiBK6"
      },
      "execution_count": 10,
      "outputs": []
    },
    {
      "cell_type": "code",
      "source": [
        "df.describe()"
      ],
      "metadata": {
        "id": "uXkipa0EjBwS"
      },
      "execution_count": null,
      "outputs": []
    },
    {
      "cell_type": "markdown",
      "source": [
        "From the histogram we can see the distribution of standard deviation of each independent variables is varying largely and hence we need to standardize our data"
      ],
      "metadata": {
        "id": "abV4RPp1vfeN"
      }
    },
    {
      "cell_type": "code",
      "source": [
        "print(min(std_list),max(std_list))\n",
        "bins_size = np.arange(min(std_list),max(std_list)+1,6)\n",
        "print(bins_size)\n",
        "plt.hist(std_list,bins=bins_size,density=False,edgecolor='black')"
      ],
      "metadata": {
        "id": "59i50MRxiBNL"
      },
      "execution_count": null,
      "outputs": []
    },
    {
      "cell_type": "markdown",
      "source": [
        "Data Standardization: Creating an instance or object of Standard Scaler class"
      ],
      "metadata": {
        "id": "Nn_d28t4v3X8"
      }
    },
    {
      "cell_type": "code",
      "source": [
        "standard = StandardScaler()"
      ],
      "metadata": {
        "id": "oHNOmOdriBPw"
      },
      "execution_count": 69,
      "outputs": []
    },
    {
      "cell_type": "code",
      "source": [
        "X = df.drop(columns='Outcome',axis=1)\n",
        "Y = df['Outcome']"
      ],
      "metadata": {
        "id": "RCX_zpJIiBST"
      },
      "execution_count": 16,
      "outputs": []
    },
    {
      "cell_type": "code",
      "source": [
        "X_standard = standard.fit_transform(X)"
      ],
      "metadata": {
        "id": "BkLmH7dNiBVF"
      },
      "execution_count": 17,
      "outputs": []
    },
    {
      "cell_type": "code",
      "source": [
        "X = pd.DataFrame(X_standard,columns=X.columns)"
      ],
      "metadata": {
        "id": "iwbI_Jd-iBXc"
      },
      "execution_count": 22,
      "outputs": []
    },
    {
      "cell_type": "markdown",
      "source": [
        "Data splitting into train and test"
      ],
      "metadata": {
        "id": "pcQz0WhuwGyU"
      }
    },
    {
      "cell_type": "code",
      "source": [
        "X_learn,X_exam,Y_learn,Y_exam = train_test_split(X,Y, test_size=0.1, stratify=Y, random_state=3)"
      ],
      "metadata": {
        "id": "04LmqF92iBcj"
      },
      "execution_count": 27,
      "outputs": []
    },
    {
      "cell_type": "code",
      "source": [
        "print(X.shape,X_learn.shape,X_exam.shape)"
      ],
      "metadata": {
        "id": "BATGg5kDiBe0"
      },
      "execution_count": null,
      "outputs": []
    },
    {
      "cell_type": "markdown",
      "source": [
        "Models Loading"
      ],
      "metadata": {
        "id": "mw-Q8qiCwLRS"
      }
    },
    {
      "cell_type": "code",
      "source": [
        "LogModel = LogisticRegression()\n",
        "SVMclassifier = svm.LinearSVC()"
      ],
      "metadata": {
        "id": "bfwmI6N2iBhQ"
      },
      "execution_count": 31,
      "outputs": []
    },
    {
      "cell_type": "markdown",
      "source": [
        "Training the models"
      ],
      "metadata": {
        "id": "XHbrxvlowQtg"
      }
    },
    {
      "cell_type": "code",
      "source": [
        "LogModel.fit(X_learn,Y_learn)\n",
        "SVMclassifier.fit(X_learn,Y_learn)"
      ],
      "metadata": {
        "id": "C0rAEwmbiBjl"
      },
      "execution_count": null,
      "outputs": []
    },
    {
      "cell_type": "markdown",
      "source": [
        "Checking the accuracy of Logistic Regression and SVM for training dataset"
      ],
      "metadata": {
        "id": "miV1Ts94wUvd"
      }
    },
    {
      "cell_type": "code",
      "source": [
        "##Accuracy checking for both the model for training data\n",
        "##Logistic Regression\n",
        "Y_learn_predict_LR = LogModel.predict(X_learn)\n",
        "Accuracy_learn_LR = accuracy_score(Y_learn_predict_LR,Y_learn)\n",
        "\n",
        "##SVM\n",
        "Y_learn_predict_SVM = SVMclassifier.predict(X_learn)\n",
        "Accuracy_learn_SVM = accuracy_score(Y_learn_predict_SVM,Y_learn)\n",
        "\n",
        "print(f'Accuracy of Logistic Regression on traning: {Accuracy_learn_LR}')\n",
        "print(f'Accuracy of SVM on traning: {Accuracy_learn_SVM}')\n",
        "\n"
      ],
      "metadata": {
        "id": "RcvxyCkqiBmE"
      },
      "execution_count": null,
      "outputs": []
    },
    {
      "cell_type": "markdown",
      "source": [
        "Testing the dataset and accuracy test of Logistic Regression and SVM on testing dataset"
      ],
      "metadata": {
        "id": "E1SQGthTwdjO"
      }
    },
    {
      "cell_type": "code",
      "source": [
        "##Accuracy checking for both the model for testing data\n",
        "##Logistic Regression\n",
        "Y_exam_predict_LR = LogModel.predict(X_exam)\n",
        "Accuracy_exam_LR = accuracy_score(Y_exam_predict_LR,Y_exam)\n",
        "\n",
        "##SVM\n",
        "Y_exam_predict_SVM = SVMclassifier.predict(X_exam)\n",
        "Accuracy_exam_SVM = accuracy_score(Y_exam_predict_SVM,Y_exam)\n",
        "\n",
        "print(f'Accuracy of Logistic Regression on testing: {Accuracy_exam_LR}')\n",
        "print(f'Accuracy of SVM on testing: {Accuracy_exam_SVM}')"
      ],
      "metadata": {
        "id": "mmUAlVhlmiFq"
      },
      "execution_count": null,
      "outputs": []
    },
    {
      "cell_type": "markdown",
      "source": [
        "Making Predictive system"
      ],
      "metadata": {
        "id": "9N21DEfTwqYe"
      }
    },
    {
      "cell_type": "code",
      "source": [
        "prediction_count = int(input('How many predictions you want? '))"
      ],
      "metadata": {
        "id": "pRWG7uI6xI-4"
      },
      "execution_count": null,
      "outputs": []
    },
    {
      "cell_type": "code",
      "source": [
        "input_data = X.iloc[:prediction_count,:]\n",
        "print(input_data)\n",
        "print(Y[0:prediction_count])\n",
        "\n",
        "Predict_LR = LogModel.predict(input_data)\n",
        "Predict_SVM = SVMclassifier.predict(input_data)\n",
        "print(Predict_LR,Predict_SVM)\n",
        "count = 0\n",
        "\n",
        "for LR, SVM in zip(Predict_LR,Predict_SVM):\n",
        "    count = count + 1\n",
        "    print(f'Prediction:{count}')\n",
        "    if LR==0 and SVM==0:\n",
        "      print('Logistic Regression and SVM says the person is non diabetic')\n",
        "    elif LR==1 and SVM==1:\n",
        "      print('Logistic Regression and SVM says the person is diabetic')\n",
        "    elif LR==1 and SVM==0:\n",
        "      print('Logistic Regression says the person is diabetic and SVM says the person is non diabetic')\n",
        "    elif LR==0 and SVM==1:\n",
        "      print('Logistic Regression says the person is non diabetic and SVM says the person is diabetic')"
      ],
      "metadata": {
        "id": "G9WHB5CkmiIA"
      },
      "execution_count": null,
      "outputs": []
    }
  ]
}